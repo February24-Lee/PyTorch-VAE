{
 "cells": [
  {
   "cell_type": "code",
   "execution_count": 1,
   "metadata": {},
   "outputs": [],
   "source": [
    "%load_ext autoreload\n",
    "%autoreload 2"
   ]
  },
  {
   "cell_type": "code",
   "execution_count": 11,
   "metadata": {},
   "outputs": [],
   "source": [
    "import yaml\n",
    "import numpy as np\n",
    "\n",
    "from models import *\n",
    "from experiment import VAEXperiment\n",
    "from torchsummary import summary\n",
    "import pytorch_lightning as pl\n",
    "\n",
    "import torch.backends.cudnn as cudnn"
   ]
  },
  {
   "cell_type": "code",
   "execution_count": 3,
   "metadata": {},
   "outputs": [],
   "source": [
    "configs_path = \"configs/betatc_vae_sate.yaml\"\n",
    "\n",
    "with open(configs_path, 'r') as f:\n",
    "    configs = yaml.safe_load(f)\n",
    "    \n",
    "model = vae_models[configs['model_params']['name']](**configs['model_params'])"
   ]
  },
  {
   "cell_type": "code",
   "execution_count": 4,
   "metadata": {},
   "outputs": [],
   "source": [
    "my_model = model.cpu()"
   ]
  },
  {
   "cell_type": "code",
   "execution_count": 5,
   "metadata": {
    "scrolled": false
   },
   "outputs": [
    {
     "name": "stdout",
     "output_type": "stream",
     "text": [
      "----------------------------------------------------------------\n",
      "        Layer (type)               Output Shape         Param #\n",
      "================================================================\n",
      "            Conv2d-1           [-1, 32, 32, 32]             544\n",
      "         LeakyReLU-2           [-1, 32, 32, 32]               0\n",
      "            Conv2d-3           [-1, 32, 16, 16]          16,416\n",
      "         LeakyReLU-4           [-1, 32, 16, 16]               0\n",
      "            Conv2d-5             [-1, 32, 8, 8]          16,416\n",
      "         LeakyReLU-6             [-1, 32, 8, 8]               0\n",
      "            Conv2d-7             [-1, 32, 4, 4]          16,416\n",
      "         LeakyReLU-8             [-1, 32, 4, 4]               0\n",
      "            Linear-9                  [-1, 256]         131,328\n",
      "           Linear-10                   [-1, 10]           2,570\n",
      "           Linear-11                   [-1, 10]           2,570\n",
      "           Linear-12                  [-1, 512]           5,632\n",
      "  ConvTranspose2d-13             [-1, 32, 8, 8]           9,248\n",
      "        LeakyReLU-14             [-1, 32, 8, 8]               0\n",
      "  ConvTranspose2d-15           [-1, 32, 16, 16]           9,248\n",
      "        LeakyReLU-16           [-1, 32, 16, 16]               0\n",
      "  ConvTranspose2d-17           [-1, 32, 32, 32]           9,248\n",
      "        LeakyReLU-18           [-1, 32, 32, 32]               0\n",
      "  ConvTranspose2d-19           [-1, 32, 64, 64]           9,248\n",
      "        LeakyReLU-20           [-1, 32, 64, 64]               0\n",
      "           Conv2d-21            [-1, 3, 64, 64]             867\n",
      "             Tanh-22            [-1, 3, 64, 64]               0\n",
      "================================================================\n",
      "Total params: 229,751\n",
      "Trainable params: 229,751\n",
      "Non-trainable params: 0\n",
      "----------------------------------------------------------------\n",
      "Input size (MB): 0.02\n",
      "Forward/backward pass size (MB): 3.51\n",
      "Params size (MB): 0.88\n",
      "Estimated Total Size (MB): 4.41\n",
      "----------------------------------------------------------------\n"
     ]
    }
   ],
   "source": [
    "summary(my_model, input_size=(1, 64, 64), device='cpu')"
   ]
  },
  {
   "cell_type": "code",
   "execution_count": 6,
   "metadata": {},
   "outputs": [],
   "source": [
    "checkpoint_path = 'logs/_ckpt_epoch_83.ckpt'\n",
    "\n",
    "checkpoint = torch.load(checkpoint_path, map_location=torch.device('cpu'))"
   ]
  },
  {
   "cell_type": "code",
   "execution_count": 7,
   "metadata": {},
   "outputs": [],
   "source": [
    "state_dict = checkpoint['state_dict']"
   ]
  },
  {
   "cell_type": "code",
   "execution_count": 8,
   "metadata": {},
   "outputs": [],
   "source": [
    "state_dict = {k.partition('model.')[2] : state_dict[k] for k in state_dict}"
   ]
  },
  {
   "cell_type": "code",
   "execution_count": 9,
   "metadata": {},
   "outputs": [
    {
     "data": {
      "text/plain": [
       "<All keys matched successfully>"
      ]
     },
     "execution_count": 9,
     "metadata": {},
     "output_type": "execute_result"
    }
   ],
   "source": [
    "model.load_state_dict(state_dict)"
   ]
  },
  {
   "cell_type": "code",
   "execution_count": 13,
   "metadata": {},
   "outputs": [],
   "source": [
    "experiment = VAEXperiment(model,\n",
    "                          configs['exp_params'])"
   ]
  },
  {
   "cell_type": "code",
   "execution_count": 14,
   "metadata": {},
   "outputs": [],
   "source": [
    "dataloader = experiment.train_dataloader()"
   ]
  }
 ],
 "metadata": {
  "kernelspec": {
   "display_name": "pytorch16",
   "language": "python",
   "name": "pytorch16"
  },
  "language_info": {
   "codemirror_mode": {
    "name": "ipython",
    "version": 3
   },
   "file_extension": ".py",
   "mimetype": "text/x-python",
   "name": "python",
   "nbconvert_exporter": "python",
   "pygments_lexer": "ipython3",
   "version": "3.6.12"
  }
 },
 "nbformat": 4,
 "nbformat_minor": 4
}
